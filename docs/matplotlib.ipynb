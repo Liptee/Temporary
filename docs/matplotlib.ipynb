{
 "cells": [
  {
   "cell_type": "code",
   "execution_count": 1,
   "metadata": {},
   "outputs": [],
   "source": [
    "import matplotlib.pyplot as plt\n",
    "import numpy as np"
   ]
  },
  {
   "cell_type": "markdown",
   "metadata": {},
   "source": [
    "Материал взят отсюда: https://nbviewer.org/github/whitehorn/Scientific_graphics_in_python/blob/master/P1%20Chapter%201%20Pyplot.ipynb"
   ]
  },
  {
   "cell_type": "markdown",
   "metadata": {},
   "source": [
    "# Глава 1: Библиотека matplotlib. Pyploy интерфейс\n",
    "## 1.1. Библиотека matplotlib\n",
    "\n",
    "**Matplotlib** состоит из множества модулей. Модули наполнены различными классами и функциями, которые иерархически связаны между собой.\n",
    "\n",
    "Так как **matplotlib** организована иерархически, а наиболее простыми для понимания человеком являются самые высокоуровневые функции, то знакомство с **matplotlib** начинают с самого высокоуровневого интерфейса `matplotlib.pyplot`. Так, чтобы нарисовать гистрограмму с помощью этого модуля, нужно вызвать всего одну команду:"
   ]
  },
  {
   "cell_type": "code",
   "execution_count": 3,
   "metadata": {},
   "outputs": [
    {
     "data": {
      "text/plain": [
       "(array([1., 0., 0., 0., 0., 2., 0., 0., 0., 3.]),\n",
       " array([1. , 1.2, 1.4, 1.6, 1.8, 2. , 2.2, 2.4, 2.6, 2.8, 3. ]),\n",
       " <BarContainer object of 10 artists>)"
      ]
     },
     "execution_count": 3,
     "metadata": {},
     "output_type": "execute_result"
    },
    {
     "data": {
      "image/png": "[encoded data removed]",
      "text/plain": [
       "<Figure size 432x288 with 1 Axes>"
      ]
     },
     "metadata": {
      "needs_background": "light"
     },
     "output_type": "display_data"
    }
   ],
   "source": [
    "arr = [1,2,2,3,3,3]\n",
    "plt.hist(arr)"
   ]
  },
  {
   "cell_type": "markdown",
   "metadata": {},
   "source": [
    "Пользователю не нужно думать как именно библиотека нарисовала эту диаграмму. Если бы мы рисовали гистрограмму самостоятельно, то заметили бы, что она состоит из повторяющихся по форме фигур - прямоугольников. А чтобы нарисовать прямоугольник, нужно знать хотя бы координату одного угла и ширину/длину. Рисовали же бы мы прямоугольник линиями, соединяя угловые точки прямоугольника.\n",
    "\n",
    "Этот пример отображает иерархичность рисунков, когда итоговая диаграмма (высокий уровень) состоит из простых геометрических фигур (более низкий, средний уровень), созданных несколькими универсальными методами рисования (низкий уровень). Если бы каждый рисунок нужно было бы создавать вот так, с нуля, это было бы очень долго и утомительно.\n",
    "\n",
    "Интерефейс `matplotlib.pyplot` является набором команд и функций, которые делают синтаксис графических **matplotlib** команд похожими на команды, используемые в среде **MATLAB(c)**. Изначально **matplotlib** планировался как свободная альтернатива **MATLAB(c)**, где в одной среде имелись бы средства как для рисования, так и для численного анализа. Именно так в **Matplotlib** появился **pylab**, который объединяет модули **pyplot** и **numpy** в одно пространство имен.\n",
    "\n",
    "*По-видимому, **pylab** оказался не очень удачной идеей. Есть мнение, что использование pylab - это дурной тон. Обучение с помощью **pylab** может привести к неправильному пониманию работы **matplotlib** за счет использования импортирования. Так как у **pylab** нет существенных преимуществ, то далее будем работать только с **pyplot** или в объектно-ориентированном стиле(ООС)*.\n",
    "\n",
    "В тоже время для более серьезных задач (внедрение **matplotlib** в пользовательскую *GUI*) требуется больше контроля над процессом и больше гибкости, чем могут предоставить эти два модуля. Необходим доступ к более низкоуровневым возможностям библиотеки, которая реализована в объектно-ориентированном стиле. ООС заметно сложнее для новичков и требует знаний о работе конкретных классов и их методах, но и предоставляет самые большие возможности по взаимодейтсвию с библиотекой **matplotlib**. "
   ]
  },
  {
   "cell_type": "markdown",
   "metadata": {},
   "source": [
    "## 1.2. Иерархическая структура рисунка в matplotlib\n",
    "Главной единицей (объектом самого высокого уровня) при работе с **matplotlib** является рисунок (*Figure*). Любой рисунок в **matplotlib** имеет вложенную структуру и чем-то напоминает матрешку. Пользовательская работа подразумевает операции с разными уровнями этой матрешки:\n",
    "1. **Рисунок (*Figure*)**. Рисунок является объектом самого верхнего уровня, на котором располагаются одна или несколько областей рисования (*Axes*), элементы рисунка *Artists* (заголовки, легенда и т.д.) и основа-холст (*Canvas*). На рисунке может быть несколько областей рисвания *Axes*, но данная область рисования *Axes* может принадлежать только одному *Figure*.\n",
    "2. **Область рисования (*Axes*)**. Область рисования является объектом среднего уровня, который является, наверное, главным объектом работы с графикой **matplotlib** в объектно-ориентированном стиле. Это то, что ассоциируется со словом \"plot\", это часть изображения с пространством данных. Каждая *Axes* содержит две (или три в случае трехмерных данных) координантных оси (*Axis* объектов), которые упорядочивают отображение данных.\n",
    "3. **Координатная ось(*Axis*)**. Координатная ось является объектом среднего уровня, который определяет область изменениях данных, на них наносятся деления *ticks* и подписи к делениям *ticklabels*. Расположение делений определяется объектом *Locator*, а подписи делений обрабатывает объект *Formatter*. Конфигурация координантных осей заключается в комбинировании различных свойств объектов *Locator* и *Formatter*."
   ]
  }
 ],
 "metadata": {
  "interpreter": {
   "hash": "5d00fe9463615c7d2f04bd21cf4d3dd7cfe8c073f4fa7f37537a4dba5ea0ea78"
  },
  "kernelspec": {
   "display_name": "Python 3.9.4 64-bit",
   "language": "python",
   "name": "python3"
  },
  "language_info": {
   "codemirror_mode": {
    "name": "ipython",
    "version": 3
   },
   "file_extension": ".py",
   "mimetype": "text/x-python",
   "name": "python",
   "nbconvert_exporter": "python",
   "pygments_lexer": "ipython3",
   "version": "3.9.4"
  },
  "orig_nbformat": 4
 },
 "nbformat": 4,
 "nbformat_minor": 2
}
